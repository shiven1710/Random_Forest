{
 "metadata": {
  "language_info": {
   "codemirror_mode": {
    "name": "ipython",
    "version": 3
   },
   "file_extension": ".py",
   "mimetype": "text/x-python",
   "name": "python",
   "nbconvert_exporter": "python",
   "pygments_lexer": "ipython3",
   "version": 3
  },
  "orig_nbformat": 2
 },
 "nbformat": 4,
 "nbformat_minor": 2,
 "cells": [
  {
   "cell_type": "code",
   "execution_count": null,
   "metadata": {},
   "outputs": [],
   "source": [
    "def choose(x_train,x_test):\n",
    "    minrand=4\n",
    "    rand=random.randint(minrand,len(x_train.columns)-1)\n",
    "    if(rand>minrand):\n",
    "        minrand=rand\n",
    "    feat=[0,1,2,3]\n",
    "    temp_train=pd.DataFrame(x_train.iloc[:,:4],columns=x_train.iloc[:,:4].columns)\n",
    "    temp_test=pd.DataFrame(x_test.iloc[:,:4],columns=x_test.iloc[:,:4].columns)\n",
    "    columns=x.columns\n",
    "    while(len(feat)!=minrand):\n",
    "        ind=random.randint(0,len(x_train.columns)-1)\n",
    "        if(ind not in feat):\n",
    "            temp_train[columns[ind]]=x_train.iloc[:,ind]\n",
    "            temp_test[columns[ind]]=x_test.iloc[:,ind]\n",
    "            feat.append(ind)\n",
    "    return temp_train,temp_test"
   ]
  },
  {
   "cell_type": "code",
   "execution_count": null,
   "metadata": {},
   "outputs": [],
   "source": [
    "n=int(input())\n",
    "trees=[]\n",
    "random_x_train=[None for i in range(n)]\n",
    "random_x_test=[None for i in range(n)]\n",
    "for i in range(n):\n",
    "    random_x_train[i],random_x_test[i]=choose(x_train,x_test)\n",
    "    dt=DecisionTreeClassifier()\n",
    "    dt.fit(random_x_train[i],y_train)\n",
    "    trees.append(dt)"
   ]
  },
  {
   "cell_type": "code",
   "execution_count": null,
   "metadata": {},
   "outputs": [],
   "source": [
    "def mode(p):\n",
    "    fp=[]\n",
    "    for i in range(len(p[0])):\n",
    "        n={}\n",
    "        for j in range(len(p)):\n",
    "            if(p[j][i] not in n):\n",
    "                n[p[j][i]]=1\n",
    "            else:\n",
    "                n[p[j][i]]+=1\n",
    "        m=max(n)\n",
    "        fp.append(m)\n",
    "    return fp"
   ]
  },
  {
   "cell_type": "code",
   "execution_count": null,
   "metadata": {},
   "outputs": [],
   "source": [
    "def average(p):\n",
    "    fp=[]\n",
    "    for i in range(len(p[0])):\n",
    "        avg=0\n",
    "        for j in range(len(p)):\n",
    "            avg+=p[j][i]\n",
    "        fp.append(avg/len(p))\n",
    "    return fp"
   ]
  },
  {
   "cell_type": "code",
   "execution_count": null,
   "metadata": {},
   "outputs": [],
   "source": [
    "print(\"Max Voting\")\n",
    "pred=[]\n",
    "for j in range(n):\n",
    "    pred.append(trees[j].predict(random_x_test[j]))\n",
    "fp=mode(pred)\n",
    "print(\"Final Prediction\",fp)"
   ]
  },
  {
   "cell_type": "code",
   "execution_count": null,
   "metadata": {},
   "outputs": [],
   "source": [
    "print(\"Average Voting\")\n",
    "pred=[]\n",
    "for j in range(n):\n",
    "    pred.append(trees[j].predict(random_x_test[j]))\n",
    "fp=average(pred)\n",
    "print(\"Final Prediction\",fp)"
   ]
  }
 ]
}
